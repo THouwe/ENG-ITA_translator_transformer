{
 "cells": [
  {
   "cell_type": "code",
   "execution_count": null,
   "id": "adb691ed",
   "metadata": {},
   "outputs": [],
   "source": [
    "import matplotlib.pyplot as plt\n",
    "import tensorflow as tf\n",
    " \n",
    "  \n",
    "  \n",
    "class CustomSchedule(tf.keras.optimizers.schedules.LearningRateSchedule):\n",
    "    \"Custom learning rate for Adam optimizer\"\n",
    "    def __init__(self, key_dim, warmup_steps=4000):\n",
    "        super().__init__()\n",
    "        self.key_dim = key_dim\n",
    "        self.warmup_steps = warmup_steps\n",
    "        self.d = tf.cast(self.key_dim, tf.float32)\n",
    " \n",
    "    def __call__(self, step):\n",
    "        step = tf.cast(step, dtype=tf.float32)\n",
    "        arg1 = tf.math.rsqrt(step)\n",
    "        arg2 = step * (self.warmup_steps ** -1.5)\n",
    "        return tf.math.rsqrt(self.d) * tf.math.minimum(arg1, arg2)\n",
    " \n",
    "    def get_config(self):\n",
    "        # to make save and load a model using custom layer possible0\n",
    "        config = {\n",
    "            \"key_dim\": self.key_dim,\n",
    "            \"warmup_steps\": self.warmup_steps,\n",
    "        }\n",
    "        return config\n",
    "      \n",
    "      \n",
    "      \n",
    "def masked_loss(label, pred):\n",
    "    mask = label != 0\n",
    "\n",
    "    loss_object = tf.keras.losses.SparseCategoricalCrossentropy(\n",
    "        from_logits=True, reduction='none')\n",
    "    loss = loss_object(label, pred)\n",
    "\n",
    "    mask = tf.cast(mask, dtype=loss.dtype)\n",
    "    loss *= mask\n",
    "    loss = tf.reduce_sum(loss)/tf.reduce_sum(mask)\n",
    "    return loss\n",
    "\n",
    "  \n",
    "  \n",
    "def masked_accuracy(label, pred):\n",
    "    pred = tf.argmax(pred, axis=2)\n",
    "    label = tf.cast(label, pred.dtype)\n",
    "    match = label == pred\n",
    "\n",
    "    mask = label != 0\n",
    "\n",
    "    match = match & mask\n",
    "\n",
    "    match = tf.cast(match, dtype=tf.float32)\n",
    "    mask = tf.cast(mask, dtype=tf.float32)\n",
    "    return tf.reduce_sum(match)/tf.reduce_sum(mask)"
   ]
  }
 ],
 "metadata": {
  "kernelspec": {
   "display_name": "Python 3 (ipykernel)",
   "language": "python",
   "name": "python3"
  },
  "language_info": {
   "codemirror_mode": {
    "name": "ipython",
    "version": 3
   },
   "file_extension": ".py",
   "mimetype": "text/x-python",
   "name": "python",
   "nbconvert_exporter": "python",
   "pygments_lexer": "ipython3",
   "version": "3.9.15"
  }
 },
 "nbformat": 4,
 "nbformat_minor": 5
}
