{
 "cells": [
  {
   "cell_type": "markdown",
   "id": "d8ab8c9e",
   "metadata": {},
   "source": [
    "## Section 10: Training the Transformer\n",
    "\n",
    "Training the transformer depends on everything we created previously. It is easy to load the transformer model we have put together in the previous Section. However, I could not find a convenient way to store the vectorizer (Section 3). Therefore, we need to redefine a couple of functions."
   ]
  },
  {
   "cell_type": "code",
   "execution_count": 13,
   "id": "07aa7c10",
   "metadata": {},
   "outputs": [],
   "source": [
    "import matplotlib.pyplot as plt\n",
    "import pickle\n",
    "import tensorflow as tf\n",
    "\n",
    "from transformer_building_blocks import transformer\n",
    "from learning_params import CustomSchedule, masked_loss, masked_accuracy\n",
    "\n",
    "#with open(\"train_validation_test_text_pairs.pickle\", \"rb\") as fp:\n",
    "#    text_pairs = pickle.load(fp)\n",
    "\n",
    "with open(\"key_values.pickle\", \"rb\") as fp:\n",
    "    key_vals = pickle.load(fp)\n",
    "\n",
    "with open(f\"vectorized_ENGvoc_{key_vals['vocab_size_eng']}_ITAvoc_{key_vals['vocab_size_ita']}_seqLen_{key_vals['seq_len']}.pickle\", \"rb\") as fp:\n",
    "    data = pickle.load(fp)    \n",
    "    \n",
    "with open(\"optimizer_values.pickle\", \"rb\") as fp:\n",
    "    optim_vals = pickle.load(fp)\n",
    "\n",
    "with open(\"train_val_datasets.pickle\", \"rb\") as fp:\n",
    "    DS = pickle.load(fp)\n",
    "train_ds = DS[\"train\"]\n",
    "val_ds = DS[\"val\"]\n",
    "    \n",
    "    \n",
    "#def format_dataset(eng, ita):\n",
    "#    \"\"\"Take an English and a Italian sentence pair, convert into input and target.\n",
    "#    The input is a dict with keys `encoder_inputs` and `decoder_inputs`, each\n",
    "#    is a vector, corresponding to English and Italian sentences respectively.\n",
    "#    The target is also vector of the Italian sentence, advanced by 1 token. All\n",
    "#    vector are in the same length.\n",
    "# \n",
    "#    The output will be used for training the transformer model. In the model we\n",
    "#    will create, the input tensors are named `encoder_inputs` and `decoder_inputs`\n",
    "#    which should be matched to the keys in the dictionary for the source part\n",
    "#    \"\"\"\n",
    "#    eng = eng_vectorizer(eng)\n",
    "#    ita = ita_vectorizer(ita)\n",
    "#    source = {\"encoder_inputs\": eng,\n",
    "#              \"decoder_inputs\": ita[:, :-1]} # between the [start] and [end] signals\n",
    "#    target = ita[:, 1:] # between the [start] and [end] signals\n",
    "#    return (source, target)\n",
    "#  \n",
    "#  \n",
    "#def make_dataset(pairs, batch_size=64):\n",
    "#    \"\"\"Create TensorFlow Dataset for the sentence pairs\"\"\"\n",
    "#    # aggregate sentences using zip(*pairs)\n",
    "#    eng_texts, ita_texts = zip(*pairs)\n",
    "#    # convert them into list, and then create tensors\n",
    "#    dataset = tf.data.Dataset.from_tensor_slices((list(eng_texts), list(ita_texts)))\n",
    "#    return dataset.shuffle(2048) \\\n",
    "#                  .batch(batch_size).map(format_dataset) \\\n",
    "#                  .prefetch(16).cache()\n",
    "#  \n",
    "#  \n",
    "#train_ds = make_dataset(data[\"train\"])\n",
    "#val_ds = make_dataset(data[\"val\"])"
   ]
  },
  {
   "cell_type": "markdown",
   "id": "786d5da3",
   "metadata": {},
   "source": [
    "Let's train the model!"
   ]
  },
  {
   "cell_type": "code",
   "execution_count": 15,
   "id": "586e40df",
   "metadata": {},
   "outputs": [
    {
     "name": "stdout",
     "output_type": "stream",
     "text": [
      "Epoch 1/20\n",
      "3920/3920 [==============================] - 6511s 2s/step - loss: 1.5048 - masked_accuracy: 0.4810 - val_loss: 0.7880 - val_masked_accuracy: 0.6564\n",
      "Epoch 2/20\n",
      "3920/3920 [==============================] - 6221s 2s/step - loss: 0.6557 - masked_accuracy: 0.7084 - val_loss: 0.5400 - val_masked_accuracy: 0.7492\n",
      "Epoch 3/20\n",
      "3920/3920 [==============================] - 6137s 2s/step - loss: 0.5218 - masked_accuracy: 0.7633 - val_loss: 0.4705 - val_masked_accuracy: 0.7786\n",
      "Epoch 4/20\n",
      "3920/3920 [==============================] - 6112s 2s/step - loss: 0.4709 - masked_accuracy: 0.7854 - val_loss: 0.4464 - val_masked_accuracy: 0.7895\n",
      "Epoch 5/20\n",
      "3920/3920 [==============================] - 6123s 2s/step - loss: 0.4418 - masked_accuracy: 0.7986 - val_loss: 0.4232 - val_masked_accuracy: 0.7996\n",
      "Epoch 6/20\n",
      "3920/3920 [==============================] - 6124s 2s/step - loss: 0.4217 - masked_accuracy: 0.8076 - val_loss: 0.4117 - val_masked_accuracy: 0.8055\n",
      "Epoch 7/20\n",
      "3920/3920 [==============================] - 6133s 2s/step - loss: 0.4068 - masked_accuracy: 0.8146 - val_loss: 0.4031 - val_masked_accuracy: 0.8082\n",
      "Epoch 8/20\n",
      "3920/3920 [==============================] - 6139s 2s/step - loss: 0.3946 - masked_accuracy: 0.8200 - val_loss: 0.3956 - val_masked_accuracy: 0.8119\n",
      "Epoch 9/20\n",
      "3920/3920 [==============================] - 6152s 2s/step - loss: 0.3846 - masked_accuracy: 0.8247 - val_loss: 0.3896 - val_masked_accuracy: 0.8147\n",
      "Epoch 10/20\n",
      "3920/3920 [==============================] - 6145s 2s/step - loss: 0.3761 - masked_accuracy: 0.8284 - val_loss: 0.3866 - val_masked_accuracy: 0.8159\n",
      "Epoch 11/20\n",
      "3920/3920 [==============================] - 6687s 2s/step - loss: 0.3687 - masked_accuracy: 0.8317 - val_loss: 0.3839 - val_masked_accuracy: 0.8169\n",
      "Epoch 12/20\n",
      "3920/3920 [==============================] - 6186s 2s/step - loss: 0.3625 - masked_accuracy: 0.8348 - val_loss: 0.3814 - val_masked_accuracy: 0.8185\n",
      "Epoch 13/20\n",
      "3920/3920 [==============================] - 6272s 2s/step - loss: 0.3567 - masked_accuracy: 0.8373 - val_loss: 0.3772 - val_masked_accuracy: 0.8206\n",
      "Epoch 14/20\n",
      "3920/3920 [==============================] - 6830s 2s/step - loss: 0.3515 - masked_accuracy: 0.8399 - val_loss: 0.3757 - val_masked_accuracy: 0.8216\n",
      "Epoch 15/20\n",
      "3920/3920 [==============================] - 6976s 2s/step - loss: 0.3465 - masked_accuracy: 0.8423 - val_loss: 0.3734 - val_masked_accuracy: 0.8229\n",
      "Epoch 16/20\n",
      "3920/3920 [==============================] - 72508s 19s/step - loss: 0.3423 - masked_accuracy: 0.8441 - val_loss: 0.3724 - val_masked_accuracy: 0.8234\n",
      "Epoch 17/20\n",
      "3920/3920 [==============================] - 7796s 2s/step - loss: 0.3385 - masked_accuracy: 0.8457 - val_loss: 0.3717 - val_masked_accuracy: 0.8236\n",
      "Epoch 18/20\n",
      "3920/3920 [==============================] - 6318s 2s/step - loss: 0.3347 - masked_accuracy: 0.8477 - val_loss: 0.3696 - val_masked_accuracy: 0.8251\n",
      "Epoch 19/20\n",
      "3920/3920 [==============================] - 46005s 12s/step - loss: 0.3313 - masked_accuracy: 0.8492 - val_loss: 0.3685 - val_masked_accuracy: 0.8256\n",
      "Epoch 20/20\n",
      "3920/3920 [==============================] - 6291s 2s/step - loss: 0.3279 - masked_accuracy: 0.8507 - val_loss: 0.3684 - val_masked_accuracy: 0.8256\n"
     ]
    }
   ],
   "source": [
    "model = transformer(key_vals[\"num_layers\"], key_vals[\"num_heads\"], key_vals[\"seq_len\"],\n",
    "                    key_vals[\"key_dim\"], key_vals[\"ff_dim\"], key_vals[\"vocab_size_eng\"],\n",
    "                    key_vals[\"vocab_size_ita\"], key_vals[\"dropout\"])\n",
    "\n",
    "lr = CustomSchedule(key_vals[\"key_dim\"])\n",
    "optimizer = tf.keras.optimizers.Adam(lr, optim_vals[\"beta_1\"], optim_vals[\"beta_2\"], optim_vals[\"epsilon\"])\n",
    "model.compile(loss=masked_loss, optimizer=optimizer, metrics=[masked_accuracy])\n",
    "epochs = 20\n",
    "history = model.fit(train_ds, epochs=epochs, validation_data=val_ds)\n",
    "\n",
    "# Save the trained model\n",
    "model.save(\"ENG-ITA-transformer.h5\")"
   ]
  },
  {
   "cell_type": "markdown",
   "id": "8e199c47",
   "metadata": {},
   "source": [
    "The model took 35 hours to compute."
   ]
  },
  {
   "cell_type": "markdown",
   "id": "19dcb749",
   "metadata": {},
   "source": [
    "### The loss function\n",
    "In machine learning, the 'loss' is a function that measures the difference between the predicted output and the actual output for a single training example. The goal of training a model is to minimize this loss function, so that the predicted output is as close as possible to the actual output.\n",
    "\n",
    "In the context of training a neural network, the 'loss' is calculated for each training example, and the average loss over all training examples is used to update the model's parameters.\n",
    "\n",
    "Validation loss is similar to the loss but it's calculated using a validation dataset which is a set of examples that is used to evaluate the model's performance during training. We use validation loss to measure how well our model is doing during the training process, but with unseen data.\n",
    "\n",
    "Validation loss is important because if the validation loss is increasing during the training, it means that our model is starting to overfit the training data. That is, it is becoming too specialized to the training data and is not generalizing well to new examples.\n",
    "\n",
    "The masked loss is a variant of the traditional loss function, which is typically used to evaluate the performance of a machine learning model. The traditional loss function compares the model's predictions to the actual output, and calculates a value that represents the difference between the two.\n",
    "\n",
    "In the case of masked loss, it is used when working with a specific type of input data called a \"masked input\". A masked input is an input where some values have been replaced by a special token, typically 0, to indicate that those values should not be considered when making predictions.\n",
    "\n",
    "The masked loss is calculated by comparing the model's predictions to the actual output, but only considering the non-masked input. The prediction and actual output values for the masked elements are ignored and not used to calculate the loss.\n",
    "\n",
    "For example, in a language modeling task, the input is a sequence of words and the output is the same sequence of words, but shifted by one. In this case, the model should predict the next word, however, during the training, the input will be passed through a masking layer to prevent the model from seeing the next word and the task is to predict the next word only for the non-masked words in the input.\n",
    "\n",
    "The masked loss is a more robust metric than traditional loss function because it is able to take into account the fact that some elements in the input have been masked and should not be considered when making predictions."
   ]
  },
  {
   "cell_type": "markdown",
   "id": "b67eaaa9",
   "metadata": {},
   "source": [
    "### Optimization\n",
    "The loss function is used to measure the difference between the model's predictions and the actual output, and the goal of training a machine learning model is to minimize this loss function. The model's parameters are updated in a way that reduces the loss on the training data.\n",
    "\n",
    "The process of updating the model's parameters is done through an optimization algorithm. The optimization algorithm takes the current values of the model's parameters and the calculated loss, and updates the parameters in a way that reduces the loss.\n",
    "\n",
    "The most common optimization algorithm used in neural networks is the stochastic gradient descent (SGD) algorithm. In the case of SGD, the update of the model's parameters is done by taking the negative gradient of the loss function with respect to the parameters.\n",
    "\n",
    "In other words, the gradient of the loss function is calculated for each training example, and this gradient is used to update the model's parameters in the opposite direction of the gradient.\n",
    "\n",
    "The magnitude of the updates is controlled by a learning rate, which determines the step size of the updates. The learning rate is usually a small positive number, and it can be set manually or adaptively during the training process.\n",
    "\n",
    "After the update of the parameters, the process is repeated by feeding the updated model with new inputs, calculating the loss and updating the parameters again. This process is repeated until the loss function reaches an acceptable value or a maximum number of iterations is reached.\n",
    "\n",
    "It's worth noting that the optimization algorithm is not only used during the training process but also during the inference process, the optimization algorithm is used to adjust the parameters of the model to make predictions on new inputs."
   ]
  },
  {
   "cell_type": "markdown",
   "id": "113a897a",
   "metadata": {},
   "source": [
    "### The Adam optimizer\n",
    "Adam (Adaptive Moment Estimation) is an optimization algorithm that is similar to stochastic gradient descent (SGD), but it also includes the concept of momentum and adaptive learning rates.\n",
    "\n",
    "Stochastic Gradient Descent (SGD) is an optimization algorithm that updates the model's parameters by taking the negative gradient of the loss function with respect to the parameters. The magnitude of the updates is controlled by a learning rate, which determines the step size of the updates.\n",
    "\n",
    "In contrast, Adam also uses the gradient information to update the parameters, but it also uses the historical gradient information to adjust the learning rate for each parameter.\n",
    "\n",
    "Adam maintains an exponential moving average of the gradient and the squared gradient and uses them to estimate the first and second moments of the gradients. The first moment is an estimate of the mean gradient and the second moment is an estimate of the variance of the gradient.\n",
    "\n",
    "Adam uses these estimates to adapt the learning rate for each parameter. It does this by scaling the learning rate for each parameter by the ratio of the first moment to the square root of the second moment plus a small value. This scaling ensures that the learning rate is large for parameters with small gradients and small for parameters with large gradients.\n",
    "\n",
    "In summary, Adam is an optimization algorithm that combines the gradient-based update of SGD with the adaptive learning rate of Adagrad and the momentum of Nesterov accelerated gradient. This allows Adam to converge faster and more robustly than SGD, especially in cases of non-convex optimization problems.\n",
    "\n",
    "\n",
    "\n",
    "To visualize the contrast between Adam and SGD, we compare the gradients over learning of a highly simple model separately for Adam and SGD.\n",
    "\n",
    "Specifically, the code below creates a simple model, compiles it with Adam and SGD optimizers, fits it to the training data and plot the gradients over learning.\n",
    "\n",
    "It's worth noting that the get_gradients method will return the gradients of the optimizer with respect to the loss. If you need the gradients with respect to the parameters of the model, you should use the get_gradients method of the model, not the optimizer.\n",
    "\n",
    "Also, you may want to plot the gradients over the learning process, you can use the epochs parameter in the x-axis of the plot instead of the iteration number."
   ]
  },
  {
   "cell_type": "code",
   "execution_count": null,
   "id": "73c77444",
   "metadata": {},
   "outputs": [],
   "source": [
    "import matplotlib.pyplot as plt\n",
    "from tensorflow.keras.optimizers import Adam, SGD\n",
    "\n",
    "# Create a simple model\n",
    "model = ...\n",
    "\n",
    "# Compile the model with Adam optimizer\n",
    "Adam_optimizer = Adam()\n",
    "model.compile(optimizer=Adam_optimizer, loss='categorical_crossentropy')\n",
    "Adam_history = model.fit(X_train, y_train, epochs=10, validation_data=(X_test, y_test))\n",
    "Adam_grads = Adam_optimizer.get_gradients(Adam_history.history[\"loss\"])\n",
    "\n",
    "# Compile the model with SGD optimizer\n",
    "SGD_optimizer = SGD()\n",
    "model.compile(optimizer=SGD_optimizer, loss='categorical_crossentropy')\n",
    "SGD_history = model.fit(X_train, y_train, epochs=10, validation_data=(X_test, y_test))\n",
    "SGD_grads = SGD_optimizer.get_gradients(SGD_history.history[\"loss\"])\n",
    "\n",
    "# Plot the gradients over learning\n",
    "plt.plot(Adam_grads, label='Adam')\n",
    "plt.plot(SGD_grads, label='SGD')\n",
    "plt.legend()\n",
    "plt.show()"
   ]
  },
  {
   "cell_type": "markdown",
   "id": "fdc23aa5",
   "metadata": {},
   "source": [
    "### Accuracy\n",
    "The masked accuracy is a variant of the traditional accuracy metric, which is typically used to evaluate the performance of a machine learning model. The traditional accuracy is defined as the number of correct predictions made by the model, divided by the total number of predictions made.\n",
    "\n",
    "In the case of masked accuracy, it is used when working with a specific type of input data called a \"masked input\". A masked input is an input where some values have been replaced by a special token, typically 0, to indicate that those values should not be considered when making predictions.\n",
    "\n",
    "The masked accuracy is calculated by comparing the model's predictions to the actual output, but only considering the non-masked input. The number of correct predictions on non-masked elements are divided by the total number of non-masked elements.\n",
    "\n",
    "For example, in a language modeling task, the input is a sequence of words and the output is the same sequence of words, but shifted by one. In this case, the model should predict the next word, however, during the training, the input will be passed through a masking layer to prevent the model from seeing the next word and the task is to predict the next word only for the non-masked words in the input.\n",
    "\n",
    "The masked accuracy is a more robust metric than traditional accuracy because it is able to take into account the fact that some elements in the input have been masked and should not be considered when making predictions.\n",
    "\n",
    "\n",
    "\n",
    "If the accuracy in the training set is increasing more over time compared to the accuracy in the validation set, it could indicate that the model is overfitting to the training data. Overfitting occurs when a model becomes too specialized to the training data, and performs poorly on new unseen data.\n",
    "\n",
    "When a model is overfitting, it is able to achieve high accuracy on the training set because it has memorized the patterns in the training data. However, when the model is presented with new unseen data (the validation set), it is unable to generalize these patterns, and the accuracy is lower.\n",
    "\n",
    "There are several techniques that can be used to prevent overfitting, such as:\n",
    "\n",
    "- Using a larger training dataset\n",
    "- Using regularization techniques such as L1, L2 regularization or dropout\n",
    "- Early stopping, that is stopping the training when the validation loss starts to increase\n",
    "- Using a smaller model, with less number of layers or neurons\n",
    "- Data augmentation, that is artificially increasing the size of the training dataset by applying random transformations to the existing data\n",
    "\n",
    "By combining these techniques, you can reduce overfitting and improve the model's generalization capabilities."
   ]
  },
  {
   "cell_type": "markdown",
   "id": "f53eb4e7",
   "metadata": {},
   "source": [
    "### Dropout\n",
    "Dropout is a regularization technique used in deep learning to prevent overfitting. It is a simple yet effective method to reduce overfitting by dropping out, or disabling, a random subset of neurons during training.\n",
    "\n",
    "Dropout works by randomly setting a certain proportion of the neurons in the model to zero during each training iteration. This means that the neurons will not be activated and will not contribute to the final output. This forces the remaining neurons to learn more robust features, since they can't rely on the dropped out neurons to compensate for the missing information.\n",
    "\n",
    "The proportion of neurons that are dropped out is called the dropout rate and is a hyperparameter that can be set by the user. A dropout rate of 0.2 means that 20% of the neurons will be dropped out during each iteration.\n",
    "\n",
    "Dropout is typically applied to the input and hidden layers of a neural network, and it is not applied to the output layer. The dropout rate can be different for different layers, and it can be set differently for the input and hidden layers.\n",
    "\n",
    "Dropout has been found to be an effective regularization technique in deep learning, and it has been used in many state-of-the-art models. It helps to prevent overfitting by reducing the co-adaptation of the neurons in the model, forcing the model to learn a more robust feature representation.\n",
    "\n",
    "It's worth noting that during the inference time, dropout is not applied, as we want to use all the neurons in the model to make predictions."
   ]
  },
  {
   "cell_type": "code",
   "execution_count": 16,
   "id": "2dc3655c",
   "metadata": {},
   "outputs": [
    {
     "data": {
      "image/png": "[encoded data removed]",
      "text/plain": [
       "<Figure size 600x800 with 2 Axes>"
      ]
     },
     "metadata": {},
     "output_type": "display_data"
    }
   ],
   "source": [
    "# Plot the loss and accuracy history\n",
    "fig, axs = plt.subplots(2, figsize=(6, 8), sharex=True)\n",
    "fig.suptitle('Traininig history')\n",
    "x = list(range(1, epochs+1))\n",
    "axs[0].plot(x, history.history[\"loss\"], alpha=0.5, label=\"loss\")\n",
    "axs[0].plot(x, history.history[\"val_loss\"], alpha=0.5, label=\"val_loss\")\n",
    "axs[0].set_ylabel(\"Loss\")\n",
    "axs[0].legend(loc=\"upper right\")\n",
    "axs[1].plot(x, history.history[\"masked_accuracy\"], alpha=0.5, label=\"acc\")\n",
    "axs[1].plot(x, history.history[\"val_masked_accuracy\"], alpha=0.5, label=\"val_acc\")\n",
    "axs[1].set_ylabel(\"Accuracy\")\n",
    "axs[1].set_xlabel(\"epoch\")\n",
    "axs[1].legend(loc=\"lower right\")\n",
    "plt.show()\n",
    "\n",
    "plt.savefig(\"section10_figure01_model_accuract.jpg\")"
   ]
  },
  {
   "cell_type": "markdown",
   "id": "b145bfcf",
   "metadata": {},
   "source": [
    "### Early stopping & checkpoint callback\n",
    "\n",
    "Next, we can add early stopping and checkpoint callbacks. The *early stopping* callback can help interrupt the training when no progress is made. This implementation will stop the training when the validation loss stops improving after 5 epochs. The *checkpoint callback* can help you keep the best-score model rather than return only the final model at the last epoch."
   ]
  },
  {
   "cell_type": "code",
   "execution_count": null,
   "id": "19ffe905",
   "metadata": {},
   "outputs": [
    {
     "name": "stdout",
     "output_type": "stream",
     "text": [
      "Epoch 1/20\n",
      "3920/3920 [==============================] - 16858s 4s/step - loss: 1.5072 - masked_accuracy: 0.4800 - val_loss: 0.7986 - val_masked_accuracy: 0.6470\n",
      "Epoch 2/20\n",
      "3920/3920 [==============================] - 6616s 2s/step - loss: 0.6615 - masked_accuracy: 0.7061 - val_loss: 0.5391 - val_masked_accuracy: 0.7489\n",
      "Epoch 3/20\n",
      "3920/3920 [==============================] - 9500s 2s/step - loss: 0.5220 - masked_accuracy: 0.7628 - val_loss: 0.4755 - val_masked_accuracy: 0.7779\n",
      "Epoch 4/20\n",
      " 949/3920 [======>.......................] - ETA: 1:21:18 - loss: 0.4831 - masked_accuracy: 0.7805"
     ]
    }
   ],
   "source": [
    "from tensorflow.keras.callbacks import EarlyStopping, ModelCheckpoint\n",
    "\n",
    "early_stop = EarlyStopping(monitor='val_loss', patience=5)\n",
    "checkpoint = ModelCheckpoint(filepath='best_model.h5', save_best_only=True, monitor='val_loss')\n",
    "\n",
    "model = transformer(key_vals[\"num_layers\"], key_vals[\"num_heads\"], key_vals[\"seq_len\"],\n",
    "                    key_vals[\"key_dim\"], key_vals[\"ff_dim\"], key_vals[\"vocab_size_eng\"],\n",
    "                    key_vals[\"vocab_size_ita\"], key_vals[\"dropout\"])\n",
    "\n",
    "lr = CustomSchedule(key_vals[\"key_dim\"])\n",
    "optimizer = tf.keras.optimizers.Adam(lr, optim_vals[\"beta_1\"], optim_vals[\"beta_2\"], optim_vals[\"epsilon\"])\n",
    "model.compile(loss=masked_loss, optimizer=optimizer, metrics=[masked_accuracy])\n",
    "\n",
    "epochs = 20\n",
    "history = model.fit(train_ds, epochs=epochs, validation_data=val_ds, callbacks=[early_stop, checkpoint])\n",
    "\n",
    "model.save(\"ENG-ITA-transformer_fitted.h5\")"
   ]
  },
  {
   "cell_type": "code",
   "execution_count": null,
   "id": "510c391c",
   "metadata": {},
   "outputs": [],
   "source": []
  }
 ],
 "metadata": {
  "kernelspec": {
   "display_name": "Python 3 (ipykernel)",
   "language": "python",
   "name": "python3"
  },
  "language_info": {
   "codemirror_mode": {
    "name": "ipython",
    "version": 3
   },
   "file_extension": ".py",
   "mimetype": "text/x-python",
   "name": "python",
   "nbconvert_exporter": "python",
   "pygments_lexer": "ipython3",
   "version": "3.9.15"
  }
 },
 "nbformat": 4,
 "nbformat_minor": 5
}
