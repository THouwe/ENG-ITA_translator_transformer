{
 "cells": [
  {
   "cell_type": "markdown",
   "id": "48c898e5",
   "metadata": {},
   "source": [
    "## Section 2: Data Exploration & Text Normalization\n",
    "\n",
    "Here, we will build a sentence-based English-to-Italian translator. To train the model we will be using the user-contributed data for the flash card app Anki. We will be using the ita.txt file which can be downloaded [here](https://www.manythings.org/anki/) (ita-eng.zip). We then print the first few lines."
   ]
  },
  {
   "cell_type": "code",
   "execution_count": 1,
   "id": "135b0660",
   "metadata": {},
   "outputs": [
    {
     "name": "stdout",
     "output_type": "stream",
     "text": [
      "['Hi.\\tCiao!\\tCC-BY 2.0 (France) Attribution: tatoeba.org #538123 (CM) & #607364 (Cero)\\n', 'Hi.\\tCiao.\\tCC-BY 2.0 (France) Attribution: tatoeba.org #538123 (CM) & #4522287 (Guybrush88)\\n', 'Run!\\tCorri!\\tCC-BY 2.0 (France) Attribution: tatoeba.org #906328 (papabear) & #906347 (Guybrush88)\\n', 'Run!\\tCorra!\\tCC-BY 2.0 (France) Attribution: tatoeba.org #906328 (papabear) & #906348 (Guybrush88)\\n', 'Run!\\tCorrete!\\tCC-BY 2.0 (France) Attribution: tatoeba.org #906328 (papabear) & #906350 (Guybrush88)\\n']\n"
     ]
    }
   ],
   "source": [
    "import pathlib\n",
    "import csv\n",
    "\n",
    "N = 5\n",
    "with open(\"ENG_ITA.txt\") as myfile:\n",
    "    head = [next(myfile) for x in range(N)]\n",
    "print(head)"
   ]
  },
  {
   "cell_type": "markdown",
   "id": "8535000e",
   "metadata": {},
   "source": [
    "Each line is composed by three tab-separated parts:\n",
    "1. English word/sentence (items increase in complexity over the length of the file)\n",
    "2. Italian word/sentence\n",
    "3. copyright.\n",
    "\n",
    "Next, we will create a list of English and Italian item pairs and to perform **tokenization**.\n",
    "\n",
    "\n",
    "### Tokenization.\n",
    "**Tokenization**  is the first step in any NLP pipeline. It has an important effect on the rest of the pipeline. A tokenizer breaks unstructured data and natural language text into chunks of information that can be considered as discrete elements. The token occurrences in a document can be used directly as a vector representing that document. \n",
    "\n",
    "This immediately turns an unstructured string (text document) into a numerical data structure suitable for machine learning. They can also be used directly by a computer to trigger useful actions and responses. Or they might be used in a machine learning pipeline as features that trigger more complex decisions or behavior.\n",
    "\n",
    "Our model will be trained to predict the next word of the target sentence. Therefore, we will perform *word* tokenization (vs, e.g., *sentence* tokenization).\n",
    "\n",
    "We will do this in three ways. We will first use a set of custom-defined functions to normalize and tokenize (i.e., using *str.split()*) (method 1). Next, we will use a pre-trained ML model to tokenize the non-normalized text and re-train the model (method 2). Finally, we will combine the two approaches by tokenizing with the pre-trained model the text already passed through the custom normalization pipeline (method 3). \n",
    "\n",
    "The pre-trained model we will be using comes from the [NLTK]() library. We will call *word_tokenize()*, which uses a sophisticated algorithm to tokenize text into words, called the **Punkt** tokenizer, which is a pre-trained unsupervised machine learning model that was trained on a large corpus of text. It takes into account various linguistic features such as punctuation, capitalization, and contractions to produce more accurate tokenization results.\n",
    "\n",
    "First, we will train the model using the custom tokenization and then after using the more sophisticated tokenization. We will compare the performance of the models.\n",
    "\n",
    "\n",
    "### Normalization.\n",
    "Before tokenization, we will normalize the text using a set of custom functions to:\n",
    "- Normalize the input line of text by applying the \"NFD\" normalization.\n",
    "- Strip any leading and trailing whitespace from the normalized line and make it lowercase.\n",
    "- Use regular expressions to find specific patterns in the text and substitute them with other text. The function applies four substitution operations (e.g., to match any non-whitespace or non-word character at the start of the line and add a space before it). These were defined after data inspection.\n",
    "- Split the line at the tab character, using the split(\"\\t\") method, and assign the resulting parts to three variables, eng, ita and rest.\n",
    "- Wrapping the target (Italian) text with [start] and [end] sentinels. The reason for this will only be clear in Section 11.\n",
    "- expand English contractions (e.g., *he'll* --> *he will*)\n",
    "- remove meaningless accents (English)\n",
    "- substitute meaningful accents (Italian)"
   ]
  },
  {
   "cell_type": "code",
   "execution_count": 47,
   "id": "ee3101ca",
   "metadata": {},
   "outputs": [],
   "source": [
    "import unicodedata\n",
    "import re\n",
    "\n",
    "\n",
    "def lineSplit(line):\n",
    "    \"\"\"Returns first and second columns of text data (eng and Ita)\"\"\"\n",
    "    p1, p2, p3 = line.split(\"\\t\")  \n",
    "    return p1, p2\n",
    "\n",
    "  \n",
    "def strip_accents(text):\n",
    "    \"\"\"Removes accents. Used for English text only, since accents are meaningless here.\"\"\"\n",
    "    try:\n",
    "        text = unicode(text, 'utf-8')\n",
    "    except NameError: # unicode is a default on python 3 \n",
    "        pass\n",
    "    text = unicodedata.normalize('NFD', text)\\\n",
    "           .encode('ascii', 'ignore')\\\n",
    "           .decode(\"utf-8\")\n",
    "    return str(text)\n",
    "\n",
    "  \n",
    "def substitute_accented(string):\n",
    "    \"\"\"Recodes accents. Used for Italian text only, since accents are meaningful here.\n",
    "    We need to remember to re-code the output of the decoder back to original encoding.\"\"\"\n",
    "    string = re.sub(r'à', 'aa', string)\n",
    "    string = re.sub(r'è', 'ee', string)\n",
    "    string = re.sub(r'ì', 'ii', string)\n",
    "    string = re.sub(r'ò', 'oo', string)\n",
    "    string = re.sub(r'ù', 'uu', string)\n",
    "    string = re.sub(r'á', 'aaa', string)\n",
    "    string = re.sub(r'é', 'eee', string)\n",
    "    string = re.sub(r'í', 'iii', string)\n",
    "    string = re.sub(r'ó', 'ooo', string)\n",
    "    string = re.sub(r'ú', 'uuu', string)  \n",
    "    return string\n",
    "  \n",
    "  \n",
    "  \n",
    "# expand contractions (only applies to English)\n",
    "contractions_dict = {\"ain't\": \"are not\", \"aren't\": \"are not\", \"can't\": \"cannot\", \n",
    "                     \"can't've\": \"cannot have\", \"‘cause\": \"because\", \"could've\": \"could have\", \n",
    "                     \"couldn't\": \"could not\", \"couldn't've\": \"could not have\", \"didn't\": \"did not\", \n",
    "                     \"doesn't\": \"does not\", \"don't\": \"do not\", \"hadn't\": \"had not\", \"hadn't've\": \"had not have\", \n",
    "                     \"hasn't\": \"has not\", \"haven't\": \"have not\", \"he'd\": \"he would\", \"he'd've\": \"he would have\", \n",
    "                     \"he'll\": \"he will\", \"he's\": \"he is\",\"he'll've\": \"he will have\", \"how'd\": \"how did\",\n",
    "                     \"how'd'y\": \"how do you\", \"how'll\": \"how will\", \"I'd\": \"I would\", \"I'd've\": \"I would have\",\n",
    "                     \"I'll\": \"I will\", \"I'll've\": \"I will have\", \"I'm\": \"I am\", \"I've\": \"I have\", \"isn't\": \"is not\",\n",
    "                     \"it'd\": \"it would\", \"it'd've\": \"it would have\", \"it'll\": \"it will\", \"it'll've\": \"it will have\",\n",
    "                     \"it's\": \"it is\", \"let's\": \"let us\", \"ma'am\": \"madam\", \"mayn't\": \"may not\", \n",
    "                     \"might've\": \"might have\", \"mightn't\": \"might not\",\n",
    "                     \"mightn't've\": \"might not have\", \"must've\": \"must have\", \"mustn't\": \"must not\",\n",
    "                     \"mustn't've\": \"must not have\", \"needn't\": \"need not\", \"needn't've\": \"need not have\",\n",
    "                     \"o'clock\": \"of the clock\", \"oughtn't\": \"ought not\", \"oughtn't've\": \"ought not have\",\n",
    "                     \"shan't\": \"shall not\", \"sha'n't\": \"shall not\", \"shan't've\": \"shall not have\", \"she'd\": \"she would\",\n",
    "                     \"she'd've\": \"she would have\", \"she'll\": \"she will\", \"she'll've\": \"she will have\",\n",
    "                     \"should've\": \"should have\", \"shouldn't\": \"should not\", \"shouldn't've\": \"should not have\",\n",
    "                     \"so've\": \"so have\", \"that'd\": \"that would\", \"that'd've\": \"that would have\",\n",
    "                     \"there'd\": \"there would\", \"there'd've\": \"there would have\", \"they'd\": \"they would\",\n",
    "                     \"they'd've\": \"they would have\", \"they'll\": \"they will\", \"they'll've\": \"they will have\", \n",
    "                     \"they're\": \"they are\", \"they've\": \"they have\", \"to've\": \"to have\", \"wasn't\": \"was not\", \n",
    "                     \"we'd\": \"we would\", \"we'd've\": \"we would have\", \"we'll\": \"we will\", \"we'll've\": \"we will have\",\n",
    "                     \"we're\": \"we are\", \"we've\": \"we have\", \"weren't\": \"were not\",\"what'll\": \"what will\",\n",
    "                     \"what'll've\": \"what will have\", \"what're\": \"what are\", \"what've\": \"what have\",\n",
    "                     \"when've\": \"when have\", \"where'd\": \"where did\", \"where've\": \"where have\", \"who'll\": \"who will\",\n",
    "                     \"who'll've\": \"who will have\", \"who've\": \"who have\", \"why've\": \"why have\", \"will've\": \"will have\",\n",
    "                     \"won't\": \"will not\", \"won't've\": \"will not have\", \"would've\": \"would have\", \"wouldn't\": \"would not\",\n",
    "                     \"wouldn't've\": \"would not have\", \"y'all\": \"you all\", \"y'all'd\": \"you all would\",\n",
    "                     \"y'all'd've\": \"you all would have\", \"y'all're\": \"you all are\", \"y'all've\": \"you all have\",\n",
    "                     \"you'd\": \"you would\", \"you'd've\": \"you would have\", \"you'll\": \"you will\",\n",
    "                     \"you'll've\": \"you will have\", \"you're\": \"you are\", \"you've\": \"you have\"}\n",
    "\n",
    "contractions_re = re.compile('(%s)'%'|'.join(contractions_dict.keys()))\n",
    "\n",
    "\n",
    "def expand_contractions(string, contractions_dict=contractions_dict):\n",
    "    \"\"\"Expands English contractions.\"\"\"\n",
    "    def replace(match):\n",
    "        return contractions_dict[match.group(0)]\n",
    "    return contractions_re.sub(replace, string)\n",
    "  \n",
    "  \n",
    "def normalize(line):\n",
    "    \"\"\"Normalizes text by removing/substituting non-ASCII characters,\n",
    "    replaces uppercase with lowercase,\n",
    "    splits into two (Eng, Ita) at the tab character,\n",
    "    adds the [start] and [end] signals\"\"\"\n",
    "    line = line.strip()\n",
    "    line = line.replace(\"’\", \"'\") # both exist, so we replace these before expanding contractions\n",
    "    \n",
    "    line = expand_contractions(line, contractions_dict=contractions_dict)\n",
    "    \n",
    "    line = re.sub(r\"^([^ \\w])(?!\\s)\", r\"\\1 \", line)\n",
    "    line = re.sub(r\"(\\s[^ \\w])(?!\\s)\", r\"\\1 \", line) # will match anything that's not alphanumeric or underscore\n",
    "    line = re.sub(r\"(?!\\s)([^ \\w])$\", r\" \\1\", line)\n",
    "    line = re.sub(r\"(?!\\s)([^ \\w]\\s)\", r\" \\1\", line)\n",
    "    line = re.sub(r\"ñ\", \"n\", line)\n",
    "    line = re.sub(r\"ō\", \"o\", line)\n",
    "    line = re.sub(r\"ê\", \"e\", line)\n",
    "    line = re.sub(r\"ü\", \"u\", line)\n",
    "    line = re.sub(r\"º\", \"o\", line)\n",
    "    line = re.sub(r\"€\", \"Euro\", line)\n",
    "    line = re.sub(r\"°c\", \"oc\", line)\n",
    "    line = re.sub(r\"°\", \" \", line)\n",
    "    line = re.sub(r\"\\xa0\", \" \", line)\n",
    "    line = re.sub(r\"\\u200b\", \"\", line)\n",
    "    line = re.sub(r\"   \", \" \", line)\n",
    "    line = re.sub(r\"  \", \" \", line)\n",
    "    \n",
    "    line = line.lower()\n",
    "    # we run this before and after lowercasing to un-contract first words in the sentence\n",
    "    # which are not in the dictionary because of the first capital letter.\n",
    "    line = expand_contractions(line, contractions_dict=contractions_dict)\n",
    "    \n",
    "    eng, ita, rest = line.split(\"\\t\")\n",
    "    \n",
    "    ita = ita.replace(\"'\", \" \")\n",
    "    ita = substitute_accented(ita)\n",
    "    #ita = re.sub(r'[^\\w]', ' ', ita)\n",
    "    ita = \"[start] \" + ita + \" [end]\"\n",
    "    \n",
    "    eng = strip_accents(eng)\n",
    "    #eng = re.sub(r'[^\\w]', ' ', eng)\n",
    "    \n",
    "    return eng, ita\n",
    "  \n",
    "  \n",
    "def normalize_method2(line):\n",
    "    line = line.strip()\n",
    "    line = line.replace(\"’\", \"'\")\n",
    "    eng, ita, rest = line.split(\"\\t\")\n",
    "    ita = \"[start] \" + ita + \" [end]\"\n",
    "    return eng, ita"
   ]
  },
  {
   "cell_type": "markdown",
   "id": "361ed1bc",
   "metadata": {},
   "source": [
    "We now pass the *normalize()* function to our input text and save the pairs of items as a [pickle file](https://docs.python.org/3/library/pickle.html)."
   ]
  },
  {
   "cell_type": "code",
   "execution_count": 99,
   "id": "d5997f33",
   "metadata": {},
   "outputs": [
    {
     "name": "stdout",
     "output_type": "stream",
     "text": [
      "file 'ENG_ITA_pairs.pickle' exists in the current directory: not overwriting.\n",
      "file 'ENG_ITA_pairs_method2.pickle' exists in the current directory: not overwriting.\n"
     ]
    }
   ],
   "source": [
    "import pickle\n",
    "import os\n",
    "\n",
    "\n",
    "\n",
    "with open('ENG_ITA.txt', 'r', encoding=\"utf-8\") as fp:  \n",
    "    text_pairs = [normalize(line) for line in fp]\n",
    "\n",
    "file_name = \"ENG_ITA_pairs.pickle\"\n",
    "if os.path.exists(file_name):\n",
    "    print(f\"file '{file_name}' exists in the current directory: not overwriting.\")\n",
    "else:\n",
    "    print(f\"{file_name} does not exist in the current directory: saving.\")    \n",
    "    with open(file_name, \"wb\") as fp:\n",
    "        pickle.dump(text_pairs, fp)\n",
    "    \n",
    "    \n",
    "    \n",
    "with open('ENG_ITA.txt', 'r', encoding=\"utf-8\") as fp:  \n",
    "    text_pairs_method2 = [normalize_method2(line) for line in fp]\n",
    "    \n",
    "file_name = \"ENG_ITA_pairs_method2.pickle\"\n",
    "if os.path.exists(file_name):\n",
    "    print(f\"file '{file_name}' exists in the current directory: not overwriting.\")\n",
    "else:\n",
    "    print(f\"{file_name} does not exist in the current directory: saving.\")    \n",
    "    with open(file_name, \"wb\") as fp:\n",
    "        pickle.dump(text_pairs, fp)"
   ]
  },
  {
   "cell_type": "markdown",
   "id": "6a06a045",
   "metadata": {},
   "source": [
    "Let's now check the differences in encoding between the normalized and non-normalized text pairs. As you can see, the non-normalized text contain many non-ASCII characters. Luckily, *word_tokenize()* can deal with them."
   ]
  },
  {
   "cell_type": "code",
   "execution_count": 98,
   "id": "eee717c9",
   "metadata": {},
   "outputs": [
    {
     "name": "stderr",
     "output_type": "stream",
     "text": [
      "IOPub data rate exceeded.\n",
      "The notebook server will temporarily stop sending output\n",
      "to the client in order to avoid crashing it.\n",
      "To change this limit, set the config variable\n",
      "`--NotebookApp.iopub_data_rate_limit`.\n",
      "\n",
      "Current values:\n",
      "NotebookApp.iopub_data_rate_limit=1000000.0 (bytes/sec)\n",
      "NotebookApp.rate_limit_window=3.0 (secs)\n",
      "\n"
     ]
    }
   ],
   "source": [
    "eng_lines = [line[0] for line in text_pairs]\n",
    "for i in range(0,len(eng_lines)):\n",
    "    this_line = eng_lines[i]\n",
    "    if not this_line.isascii():\n",
    "        print(f\"English line {i} not ASCII: {this_line}\")\n",
    "\n",
    "ita_lines = [line[1] for line in text_pairs]\n",
    "for i in range(0,len(ita_lines)):\n",
    "    this_line = ita_lines[i]\n",
    "    if not this_line.isascii():\n",
    "        print(f\"Italian line {i} not ASCII: {this_line}\")\n",
    "        \n",
    "eng_lines = [line[0] for line in text_pairs_method2]\n",
    "for i in range(0,len(eng_lines)):\n",
    "    this_line = eng_lines[i]\n",
    "    if not this_line.isascii():\n",
    "        print(f\"Method 2: English line {i} not ASCII: {this_line}\")\n",
    "\n",
    "ita_lines = [line[1] for line in text_pairs_method2]\n",
    "for i in range(0,len(ita_lines)):\n",
    "    this_line = ita_lines[i]\n",
    "    if not this_line.isascii():\n",
    "        print(f\"Method 2: Italian line {i} not ASCII: {this_line}\")"
   ]
  },
  {
   "cell_type": "markdown",
   "id": "70bb9c9b",
   "metadata": {},
   "source": [
    "We then print out a few sentences at random before and after normalization. Beyond, lowercasing and the addition of signals, notice, for instance, how in pair 201979 *I can't* becomes *i cannot* (English), or how in pair 220500, *sarò* becomes *saroo* (Italian) after normalization."
   ]
  },
  {
   "cell_type": "code",
   "execution_count": 90,
   "id": "2db94974",
   "metadata": {},
   "outputs": [
    {
     "name": "stdout",
     "output_type": "stream",
     "text": [
      "Sentence nr. 201979:\n",
      "ENG original: `I can't pretend to like him.` \n",
      "ENG normalized: `i cannot pretend to like him .` \n",
      "ITA original: `Non riesco a fingere che mi piaccia.` \n",
      "ITA normalized: `[start] non riesco a fingere che mi piaccia . [end]` \n",
      "\n",
      "Sentence nr. 220500:\n",
      "ENG original: `I'll never be as rich as Tom.` \n",
      "ENG normalized: `i will never be as rich as tom .` \n",
      "ITA original: `Non sarò mai ricco come Tom.` \n",
      "ITA normalized: `[start] non saroo mai ricco come tom . [end]` \n",
      "\n",
      "Sentence nr. 21225:\n",
      "ENG original: `Let's eat here.` \n",
      "ENG normalized: `let us eat here .` \n",
      "ITA original: `Mangiamo qui.` \n",
      "ITA normalized: `[start] mangiamo qui . [end]` \n",
      "\n"
     ]
    }
   ],
   "source": [
    "import random\n",
    "\n",
    "with open('ENG_ITA.txt', 'r', encoding=\"utf8\") as fp:  \n",
    "    tp = [lineSplit(line) for line in fp]   \n",
    "    \n",
    "tp_eng1 = [line[0] for line in tp]\n",
    "tp_eng2 = [line[0] for line in text_pairs]\n",
    "tp_eng3 = [line[0] for line in text_pairs_method2]\n",
    "tp_ita1 = [line[1] for line in tp]\n",
    "tp_ita2 = [line[1] for line in text_pairs]\n",
    "tp_ita3 = [line[1] for line in text_pairs_method2]\n",
    "\n",
    "random.seed(0)\n",
    "for _ in range(3):\n",
    "    i = random.choice(text_pairs)\n",
    "    print(f\"Sentence nr. {text_pairs.index(i)}:\")\n",
    "    print(f\"ENG original: `{tp_eng1[text_pairs.index(i)]}` \")\n",
    "    print(f\"ENG normalized: `{tp_eng2[text_pairs.index(i)]}` \")\n",
    "    print(f\"ITA original: `{tp_ita1[text_pairs.index(i)]}` \")\n",
    "    print(f\"ITA normalized: `{tp_ita2[text_pairs.index(i)]}` \")\n",
    "    print(\"\")"
   ]
  },
  {
   "cell_type": "markdown",
   "id": "d1d4f2e8",
   "metadata": {},
   "source": [
    "Accents are preserved in the non-normalized text instead:"
   ]
  },
  {
   "cell_type": "code",
   "execution_count": 91,
   "id": "e8fdbb9c",
   "metadata": {},
   "outputs": [
    {
     "name": "stdout",
     "output_type": "stream",
     "text": [
      "Sentence nr. 201979:\n",
      "ENG normalized method 2: `I can't pretend to like him.` \n",
      "ITA normalized method 2: `[start] Non riesco a fingere che mi piaccia. [end]` \n",
      "\n",
      "Sentence nr. 220500:\n",
      "ENG normalized method 2: `I'll never be as rich as Tom.` \n",
      "ITA normalized method 2: `[start] Non sarò mai ricco come Tom. [end]` \n",
      "\n",
      "Sentence nr. 21225:\n",
      "ENG normalized method 2: `Let's eat here.` \n",
      "ITA normalized method 2: `[start] Mangiamo qui. [end]` \n",
      "\n"
     ]
    }
   ],
   "source": [
    "random.seed(0)\n",
    "for _ in range(3):\n",
    "    i = random.choice(text_pairs_method2)\n",
    "    print(f\"Sentence nr. {text_pairs_method2.index(i)}:\")\n",
    "    print(f\"ENG normalized method 2: `{tp_eng3[text_pairs_method2.index(i)]}` \")\n",
    "    print(f\"ITA normalized method 2: `{tp_ita3[text_pairs_method2.index(i)]}` \")\n",
    "    print(\"\")"
   ]
  },
  {
   "cell_type": "markdown",
   "id": "60aa9202",
   "metadata": {},
   "source": [
    "We now perform 'custom' and ML model-based tokenization on the non-normalized ('NLTK_1') and normalized ('NLTK_2') text.\n",
    "We then print out how many tokens we have and what is the maximum item length.\n",
    "\n",
    "\n",
    "### Optimal number of tokens.\n",
    "There is no definitive answer for the preferred number of tokens for training a transformer model, as it can depend on several factors such as the complexity of the task, the size and quality of the dataset, and the available computational resources. However, some general guidelines state that a smaller number of tokens (e.g., tens of thousands) is preferable if the dataset is small or of lower quality, or if the task is relatively simple. Since we have a rather small dataset, we  prefer a smaller (vs larger) number of tokens.\n",
    "\n",
    "In the end, it is possible that none of this will really matter, after limiting the vocabulary size to less tokens than len(tokens). In fact, we expect this to have limited effect, and we will re-train the model mostly to check this. Next, we will increase vocabulary size by a 20%. We expect this to have, instead, a much larger effect."
   ]
  },
  {
   "cell_type": "code",
   "execution_count": 94,
   "id": "e8e4975e",
   "metadata": {},
   "outputs": [
    {
     "name": "stdout",
     "output_type": "stream",
     "text": [
      "Total pairs: 358373\n",
      "\n",
      "                         | custom | NLTK_1 | NLTK_2 \n",
      "-----------------------------------------------------\n",
      "Total English tokens:    |  14524  |  15633  |  14061\n",
      "Total Italian tokens:    |  27713  |  33149  |  27493\n",
      "Max English item length: |   111   |   111   |   111\n",
      "Max Italian item length: |   103   |   105   |   107\n"
     ]
    }
   ],
   "source": [
    "from nltk.tokenize import word_tokenize\n",
    "\n",
    "eng_tokens, ita_tokens = set(), set()\n",
    "eng_maxlen, ita_maxlen = 0, 0\n",
    "\n",
    "eng_tokens_method2, ita_tokens_method2 = set(), set()\n",
    "eng_maxlen_method2, ita_maxlen_method2 = 0, 0\n",
    "\n",
    "eng_tokens_method3, ita_tokens_method3 = set(), set()\n",
    "eng_maxlen_method3, ita_maxlen_method3 = 0, 0\n",
    "\n",
    "for eng, ita in text_pairs: \n",
    "    eng_tok, ita_tok = eng.split(), ita.split()\n",
    "    eng_maxlen = max(eng_maxlen, len(eng_tok)) # compare maxlen with len of new token\n",
    "    ita_maxlen = max(ita_maxlen, len(ita_tok))\n",
    "    eng_tokens.update(eng_tok) # adds elements if not previously present\n",
    "    ita_tokens.update(ita_tok)\n",
    "    \n",
    "for eng, ita in text_pairs_method2: \n",
    "    eng_tok_method2 = word_tokenize(eng)\n",
    "    ita_tok_method2 = word_tokenize(ita)\n",
    "    eng_maxlen_method2 = max(eng_maxlen_method2, len(eng_tok_method2))\n",
    "    ita_maxlen_method2 = max(ita_maxlen_method2, len(ita_tok_method2))\n",
    "    eng_tokens_method2.update(eng_tok_method2)\n",
    "    ita_tokens_method2.update(ita_tok_method2)\n",
    "    \n",
    "for eng, ita in text_pairs: \n",
    "    eng_tok_method3 = word_tokenize(eng)\n",
    "    ita_tok_method3 = word_tokenize(ita)\n",
    "    eng_maxlen_method3 = max(eng_maxlen_method3, len(eng_tok_method3))\n",
    "    ita_maxlen_method3 = max(ita_maxlen_method3, len(ita_tok_method3))\n",
    "    eng_tokens_method3.update(eng_tok_method3)\n",
    "    ita_tokens_method3.update(ita_tok_method3)\n",
    "\n",
    "print(f\"Total pairs: {len(text_pairs)}\")\n",
    "print(\"\")\n",
    "print(\"                         | custom  |  NLTK_1 | NLTK_2 \")\n",
    "print(\"-----------------------------------------------------\")\n",
    "print(f\"Total English tokens:    |  {len(eng_tokens)}  |  {len(eng_tokens_method2)}  |  {len(eng_tokens_method3)}\")\n",
    "print(f\"Total Italian tokens:    |  {len(ita_tokens)-2}  |  {len(ita_tokens_method2)-2}  |  {len(ita_tokens_method3)-2}\") # -2 for [start] [end]\n",
    "print(f\"Max English item length: |   {eng_maxlen}   |   {eng_maxlen_method2}   |   {eng_maxlen_method3}\")\n",
    "print(f\"Max Italian item length: |   {ita_maxlen-2}   |   {ita_maxlen_method2-2}   |   {ita_maxlen_method3-2}\") # -2 for [start] [end]"
   ]
  },
  {
   "cell_type": "markdown",
   "id": "2fac5e69",
   "metadata": {},
   "source": [
    "The combined normalization + NLTK tokenization seems to have provided the 'best' (less tokens) result. Nevertheless, we are left with quite large numbers of tokens. This is normal since we did not perform stemming or lemmatization.\n",
    "\n",
    "Let's now visualize some of the most uncommon tokens. This is useful to diagnose how effective our text normalization was.\n",
    "There are some entries in English, such as *du* or *meatballs* which will confuse the model (e.g., overfit). The same goes for Italian (e.g., *licenzi* or *videoleso*). We will keep this in mind for later stages.\n",
    "Specifically, when performing *vectorization* (Section 3), we will limit the maximum vocabulary size of the vectorizer, which means that only the most frequent tokens will be considered and encoded. This may be useful to skip the words of little value or with spelling mistakes. We also fix the output length of the vectorizer to 20, since the large majority of sentences have this max len (check figure below; remember log-scaling of y-axis). Thus, output of vectorizer can have no more than 20 tokens."
   ]
  },
  {
   "cell_type": "code",
   "execution_count": 24,
   "id": "eea1542b",
   "metadata": {},
   "outputs": [
    {
     "name": "stdout",
     "output_type": "stream",
     "text": [
      "least common English tokens (N=30):\n",
      "[('adore', 1), ('killed', 1), ('duly', 1), ('frozen', 1), ('temporarily', 1), ('barcelona', 1), ('reckless', 1), ('panther', 1), ('meatballs', 1), ('regard', 1), ('punctured', 1), ('unlike', 1), ('beardless', 1), ('serious', 1), ('sales', 1), ('dentist', 1), ('elegant', 1), ('europeans', 1), ('mistrial', 1), ('discrete', 1), ('discarded', 1), ('greener', 1), ('seize', 1), ('android', 1), ('bids', 1), ('indiscreet', 1), ('pharmacist', 1), ('weighed', 1), ('opposition', 1), ('du', 1)]\n",
      "\n",
      "least common Italian tokens (N=30):\n",
      "[('esitante', 1), ('divampoo', 1), ('licenzi', 1), ('versatili', 1), ('carpe', 1), ('abitassi', 1), ('misericordioso', 1), ('discrete', 1), ('accetta', 1), ('divennero', 1), ('trafficone', 1), ('budapest', 1), ('insostenibile', 1), ('desideriamo', 1), ('videoleso', 1), ('distratto', 1), ('ferme', 1), ('aerei', 1), ('servizio', 1), ('allegro', 1), ('iniziata', 1), ('comincio', 1), ('jeep', 1), ('legato', 1), ('ulteriori', 1), ('rifate', 1), ('rettangolo', 1), ('astiene', 1), ('rugiada', 1), ('bellissimi', 1)]\n"
     ]
    }
   ],
   "source": [
    "import random\n",
    "import collections\n",
    "\n",
    "random.seed(0)\n",
    "counter = collections.Counter(eng_tokens)\n",
    "most_common = counter.most_common()\n",
    "sorted_eng_list = sorted(most_common, key=lambda x: x[1])\n",
    "\n",
    "random.seed(0)\n",
    "counter = collections.Counter(ita_tokens)\n",
    "most_common = counter.most_common()\n",
    "sorted_ita_list = sorted(most_common, key=lambda x: x[1])\n",
    "\n",
    "print(\"Least common English tokens (N=30):\")\n",
    "print(sorted_eng_list[0:30])\n",
    "print(\"\")\n",
    "print(\"Least common Italian tokens (N=30):\")\n",
    "print(sorted_ita_list[0:30])"
   ]
  },
  {
   "cell_type": "markdown",
   "id": "5ba67866",
   "metadata": {},
   "source": [
    "Let's now plot a few statistics about this dataset: let's see how long the items (words, sentences, paragraphs) are."
   ]
  },
  {
   "cell_type": "code",
   "execution_count": 25,
   "id": "0f22cf57",
   "metadata": {},
   "outputs": [
    {
     "data": {
      "image/png": "[encoded data removed]",
      "text/plain": [
       "<Figure size 640x480 with 1 Axes>"
      ]
     },
     "metadata": {},
     "output_type": "display_data"
    },
    {
     "data": {
      "text/plain": [
       "<Figure size 640x480 with 0 Axes>"
      ]
     },
     "metadata": {},
     "output_type": "display_data"
    }
   ],
   "source": [
    "import matplotlib.pyplot as plt\n",
    "\n",
    "# histogram of sentence length in tokens\n",
    "en_lengths = [len(eng.split()) for eng, ita in text_pairs]\n",
    "it_lengths = [len(ita.split())-2 for eng, ita in text_pairs] # -2 for [start] [end]\n",
    "\n",
    "binwidth = 5\n",
    "\n",
    "plt.hist(en_lengths, \n",
    "         bins=range(1, eng_maxlen + binwidth, binwidth),\n",
    "         label=\"en\", color=\"red\", alpha=0.33)\n",
    "plt.hist(it_lengths,\n",
    "         bins=range(1, eng_maxlen + binwidth, binwidth),\n",
    "         label=\"it\", color=\"blue\", alpha=0.33)\n",
    "plt.yscale(\"log\")     # sentence length fits Benford\"s law\n",
    "plt.ylim(plt.ylim())  # make y-axis consistent for both plots\n",
    "plt.plot([max(en_lengths), max(en_lengths)], plt.ylim(), color=\"red\")\n",
    "plt.plot([max(it_lengths), max(it_lengths)], plt.ylim(), color=\"blue\")\n",
    "plt.xlabel(\"Item Length\")\n",
    "plt.ylabel(\"Cumulative Count\")\n",
    "plt.legend()\n",
    "plt.title(\"Distribution of Item Lengths\")\n",
    "plt.show()\n",
    "\n",
    "plt.savefig(\"section02_figure01_itemLengthDistribution.jpg\")"
   ]
  },
  {
   "cell_type": "markdown",
   "id": "91359641",
   "metadata": {},
   "source": [
    "The distribution of token count over item length follows a linear relation in semi-log space in accordance to [Benford's law](https://en.wikipedia.org/wiki/Benford%27s_law). \n",
    "\n",
    "We have now normalized our sentences. In the next section we will be performing vectorization."
   ]
  },
  {
   "cell_type": "code",
   "execution_count": 110,
   "id": "78b8b77c",
   "metadata": {},
   "outputs": [
    {
     "name": "stdout",
     "output_type": "stream",
     "text": [
      "NLTK_vocab.pickle does not exist in the current directory: saving.\n"
     ]
    }
   ],
   "source": [
    "import os\n",
    "import pickle\n",
    "\n",
    "file_name = \"NLTK_vocab.pickle\"\n",
    "if os.path.exists(file_name):\n",
    "    print(f\"file '{file_name}' exists in the current directory: not overwriting.\")\n",
    "else:\n",
    "    print(f\"{file_name} does not exist in the current directory: saving.\")    \n",
    "    with open(file_name, \"wb\") as fp:\n",
    "        vocab = {\n",
    "            \"vocab_size_eng\": len(eng_tokens_method3),\n",
    "            \"vocab_size_ita\": len(ita_tokens_method3),\n",
    "            \"vocab_eng\": eng_tokens_method3,\n",
    "            \"vocab_ita\": ita_tokens_method3\n",
    "        }\n",
    "        pickle.dump(vocab, fp)"
   ]
  }
 ],
 "metadata": {
  "kernelspec": {
   "display_name": "Python 3 (ipykernel)",
   "language": "python",
   "name": "python3"
  },
  "language_info": {
   "codemirror_mode": {
    "name": "ipython",
    "version": 3
   },
   "file_extension": ".py",
   "mimetype": "text/x-python",
   "name": "python",
   "nbconvert_exporter": "python",
   "pygments_lexer": "ipython3",
   "version": "3.9.15"
  }
 },
 "nbformat": 4,
 "nbformat_minor": 5
}
